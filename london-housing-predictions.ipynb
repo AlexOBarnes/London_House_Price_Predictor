{
 "cells": [
  {
   "cell_type": "markdown",
   "metadata": {},
   "source": [
    "## London House Price Predictive Model\n",
    "### Imports"
   ]
  },
  {
   "cell_type": "code",
   "execution_count": 21,
   "metadata": {},
   "outputs": [],
   "source": [
    "import pandas as pd\n",
    "from datetime import datetime as dt, timezone as tz"
   ]
  },
  {
   "cell_type": "code",
   "execution_count": null,
   "metadata": {},
   "outputs": [],
   "source": [
    "df = pd.read_csv('data/kaggle_london_house_price_data.csv')"
   ]
  },
  {
   "cell_type": "code",
   "execution_count": 6,
   "metadata": {},
   "outputs": [
    {
     "data": {
      "text/plain": [
       "fullAddress                                               object\n",
       "postcode                                                  object\n",
       "country                                                   object\n",
       "outcode                                                   object\n",
       "latitude                                                 float64\n",
       "longitude                                                float64\n",
       "bathrooms                                                float64\n",
       "bedrooms                                                 float64\n",
       "floorAreaSqM                                             float64\n",
       "livingRooms                                              float64\n",
       "tenure                                                    object\n",
       "propertyType                                              object\n",
       "currentEnergyRating                                       object\n",
       "rentEstimate_lowerPrice                                  float64\n",
       "rentEstimate_currentPrice                                float64\n",
       "rentEstimate_upperPrice                                  float64\n",
       "saleEstimate_lowerPrice                                  float64\n",
       "saleEstimate_currentPrice                                float64\n",
       "saleEstimate_upperPrice                                  float64\n",
       "saleEstimate_confidenceLevel                              object\n",
       "saleEstimate_ingestedAt                                   object\n",
       "saleEstimate_valueChange.numericChange                   float64\n",
       "saleEstimate_valueChange.percentageChange                float64\n",
       "saleEstimate_valueChange.saleDate                         object\n",
       "history_date                                              object\n",
       "history_price                                              int64\n",
       "history_percentageChange                                 float64\n",
       "history_numericChange                                    float64\n",
       "sale_date                                    datetime64[ns, UTC]\n",
       "dtype: object"
      ]
     },
     "execution_count": 6,
     "metadata": {},
     "output_type": "execute_result"
    }
   ],
   "source": [
    "df.dtypes"
   ]
  },
  {
   "cell_type": "markdown",
   "metadata": {},
   "source": [
    "### Data Cleaning"
   ]
  },
  {
   "cell_type": "code",
   "execution_count": 5,
   "metadata": {},
   "outputs": [],
   "source": [
    "df['sale_date'] = pd.to_datetime(df['saleEstimate_ingestedAt'])"
   ]
  },
  {
   "cell_type": "code",
   "execution_count": null,
   "metadata": {},
   "outputs": [],
   "source": [
    "key_df = df.drop(columns=['history_numericChange', 'history_percentageChange', 'history_date', 'history_price','saleEstimate_valueChange.saleDate','saleEstimate_valueChange.percentageChange','saleEstimate_ingestedAt','saleEstimate_valueChange.numericChange'])"
   ]
  },
  {
   "cell_type": "code",
   "execution_count": 23,
   "metadata": {},
   "outputs": [],
   "source": [
    "house_df = key_df[key_df['sale_date'] > dt(2015, 1,1).replace(tzinfo=tz.utc)] #Only considering houses with estimated values in the last 10 years"
   ]
  },
  {
   "cell_type": "markdown",
   "metadata": {},
   "source": [
    "### EDA"
   ]
  },
  {
   "cell_type": "code",
   "execution_count": 27,
   "metadata": {},
   "outputs": [
    {
     "data": {
      "text/plain": [
       "fullAddress                         0\n",
       "postcode                            0\n",
       "country                             0\n",
       "outcode                             0\n",
       "latitude                            0\n",
       "longitude                           0\n",
       "bathrooms                       77755\n",
       "bedrooms                        40404\n",
       "floorAreaSqM                    25066\n",
       "livingRooms                     60341\n",
       "tenure                          11494\n",
       "propertyType                     1126\n",
       "currentEnergyRating             84288\n",
       "rentEstimate_lowerPrice          1101\n",
       "rentEstimate_currentPrice        1101\n",
       "rentEstimate_upperPrice          1101\n",
       "saleEstimate_lowerPrice             0\n",
       "saleEstimate_currentPrice           0\n",
       "saleEstimate_upperPrice             0\n",
       "saleEstimate_confidenceLevel        0\n",
       "sale_date                           0\n",
       "dtype: int64"
      ]
     },
     "execution_count": 27,
     "metadata": {},
     "output_type": "execute_result"
    }
   ],
   "source": [
    "house_df.isna().sum()"
   ]
  },
  {
   "cell_type": "code",
   "execution_count": null,
   "metadata": {},
   "outputs": [
    {
     "data": {
      "text/plain": [
       "fullAddress                         0\n",
       "postcode                            0\n",
       "country                             0\n",
       "outcode                             0\n",
       "latitude                            0\n",
       "longitude                           0\n",
       "bathrooms                           0\n",
       "bedrooms                            0\n",
       "floorAreaSqM                        0\n",
       "livingRooms                         0\n",
       "tenure                           1702\n",
       "propertyType                        0\n",
       "currentEnergyRating             51266\n",
       "rentEstimate_lowerPrice            16\n",
       "rentEstimate_currentPrice          16\n",
       "rentEstimate_upperPrice            16\n",
       "saleEstimate_lowerPrice             0\n",
       "saleEstimate_currentPrice           0\n",
       "saleEstimate_upperPrice             0\n",
       "saleEstimate_confidenceLevel        0\n",
       "sale_date                           0\n",
       "dtype: int64"
      ]
     },
     "execution_count": 29,
     "metadata": {},
     "output_type": "execute_result"
    }
   ],
   "source": [
    "temp_df = house_df.dropna(subset=['bathrooms', 'livingRooms','bedrooms','floorAreaSqM'])\n",
    "temp_df.isna().sum() # Cannot impute the number of rooms and area of a building"
   ]
  },
  {
   "cell_type": "code",
   "execution_count": null,
   "metadata": {},
   "outputs": [
    {
     "data": {
      "text/plain": [
       "tenure\n",
       "Leasehold    178804\n",
       "Feudal         2796\n",
       "Freehold       2039\n",
       "Shared          451\n",
       "Name: count, dtype: int64"
      ]
     },
     "execution_count": 35,
     "metadata": {},
     "output_type": "execute_result"
    }
   ],
   "source": [
    "flat_df = temp_df[temp_df['propertyType'].str.lower().str.contains('flat')]\n",
    "flat_df['tenure'].value_counts() # 98% of flats are leasehold. Would be therefore valid to impute that any flats w/o tenure are in fact leasehold"
   ]
  },
  {
   "cell_type": "code",
   "execution_count": null,
   "metadata": {},
   "outputs": [
    {
     "data": {
      "text/plain": [
       "currentEnergyRating\n",
       "C    69632\n",
       "D    49279\n",
       "B    22602\n",
       "E     9409\n",
       "F      586\n",
       "A      105\n",
       "G      101\n",
       "Name: count, dtype: int64"
      ]
     },
     "execution_count": 36,
     "metadata": {},
     "output_type": "execute_result"
    }
   ],
   "source": [
    "flat_df['currentEnergyRating'].value_counts() #Normally distributed around C/D could impute with preference for B,C,D,E for flats"
   ]
  },
  {
   "cell_type": "code",
   "execution_count": 39,
   "metadata": {},
   "outputs": [],
   "source": [
    "non_flat_df = temp_df[~temp_df['propertyType'].str.lower().str.contains('flat')]"
   ]
  },
  {
   "cell_type": "code",
   "execution_count": null,
   "metadata": {},
   "outputs": [
    {
     "data": {
      "text/plain": [
       "tenure\n",
       "Freehold     128580\n",
       "Leasehold      4128\n",
       "Feudal           56\n",
       "Shared           22\n",
       "Name: count, dtype: int64"
      ]
     },
     "execution_count": 40,
     "metadata": {},
     "output_type": "execute_result"
    }
   ],
   "source": [
    "non_flat_df['tenure'].value_counts() #Houses tend to be freehold with 97% of houses Freehold, impute freehold for non flat properties"
   ]
  },
  {
   "cell_type": "code",
   "execution_count": null,
   "metadata": {},
   "outputs": [
    {
     "data": {
      "text/plain": [
       "currentEnergyRating\n",
       "D    64439\n",
       "C    32420\n",
       "E    15526\n",
       "B     1714\n",
       "F     1061\n",
       "G      329\n",
       "A      109\n",
       "Name: count, dtype: int64"
      ]
     },
     "execution_count": 41,
     "metadata": {},
     "output_type": "execute_result"
    }
   ],
   "source": [
    "non_flat_df['currentEnergyRating'].value_counts() #Sharper normal distribution centered around D, could impute with preference for C,D,E"
   ]
  },
  {
   "cell_type": "markdown",
   "metadata": {},
   "source": [
    "This exploration of the data has clear reasoning for imputing some fields and removing rows with missing key fields.\n",
    "- Bathrooms : Cannot be reliably imputed and is necessary for the future model\n",
    "- Living Rooms: Cannot be reliably imputed and is necessary for the future model\n",
    "- Floor Area : Cannot be reliably imputed and is necessary for the future model\n",
    "- Tenure: Can be reliably imputed and is necessary for the future model\n",
    "- Energy rating: Can be reliably imputed and is necessary for the future model"
   ]
  },
  {
   "cell_type": "markdown",
   "metadata": {},
   "source": [
    "### Feature Investigation\n",
    "#### Outcode vs Postcode"
   ]
  }
 ],
 "metadata": {
  "kernelspec": {
   "display_name": ".venv",
   "language": "python",
   "name": "python3"
  },
  "language_info": {
   "codemirror_mode": {
    "name": "ipython",
    "version": 3
   },
   "file_extension": ".py",
   "mimetype": "text/x-python",
   "name": "python",
   "nbconvert_exporter": "python",
   "pygments_lexer": "ipython3",
   "version": "3.13.1"
  }
 },
 "nbformat": 4,
 "nbformat_minor": 2
}
